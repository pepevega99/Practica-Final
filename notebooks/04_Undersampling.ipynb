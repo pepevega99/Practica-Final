{
 "cells": [
  {
   "cell_type": "markdown",
   "id": "4dfc567c-ac70-4a99-b696-fa8d882f0bb1",
   "metadata": {},
   "source": [
    "## Undersampling y separación en train y validación"
   ]
  },
  {
   "cell_type": "markdown",
   "id": "38efc819-7af3-4bf9-8fe2-8a2a66dd3c87",
   "metadata": {},
   "source": [
    "En este notebook, nos enfocamos en técnicas esenciales de preprocesamiento y sub-muestreo para optimizar conjuntos de datos destinados a modelos de machine learning. Comenzamos con la carga y preparación de datos de entrenamiento para escenarios destinados tanto a modelos de árboles de decisión y emsembled o modelos de regresión e implementamos estrategias de sub-muestreo para abordar desequilibrios en la distribución de las clases. A través de funciones personalizadas, equilibramos eficazmente los conjuntos de datos y preparamos subconjuntos de entrenamiento y validación. Este enfoque no solo mejora la calidad del entrenamiento de los modelos sino que también es crucial para obtener predicciones más precisas y fiables."
   ]
  },
  {
   "cell_type": "code",
   "execution_count": 1,
   "id": "62c028e2-28df-47c4-ae15-719abb5fd0f5",
   "metadata": {},
   "outputs": [],
   "source": [
    "import pickle\n",
    "from sklearn.model_selection import train_test_split\n",
    "import pandas as pd\n",
    "from imblearn.under_sampling import RandomUnderSampler\n",
    "from imblearn.under_sampling import RandomUnderSampler\n",
    "import numpy as np"
   ]
  },
  {
   "cell_type": "markdown",
   "id": "9e493cb5-334c-4250-9e47-1070d20de62c",
   "metadata": {},
   "source": [
    "Cargamos los datos de entrenamiento, tanto los datos destinados a modelos de regresión, NaiveBayes y SVC como los destinados a modelos de árboles y emsembled.\n",
    "En unos datos, tal y como explicamos anteriormente se eliminaron las variables originales tras la creción de nuevas variables mientras que en otros datos se han mantenido."
   ]
  },
  {
   "cell_type": "code",
   "execution_count": 2,
   "id": "1bc28872-238d-4ea4-bb06-8f43cc1d3dad",
   "metadata": {},
   "outputs": [],
   "source": [
    "import pickle\n",
    "\n",
    "with open('../data/X_train.pkl', 'rb') as f:\n",
    "    X_train = pickle.load(f)\n",
    "\n",
    "with open('../data/y_train.pkl', 'rb') as f:\n",
    "    y_train = pickle.load(f)\n",
    "\n",
    "with open('../data/X_train_nb_lr_svc.pkl', 'rb') as f:\n",
    "    X_train_nb_lr_svc= pickle.load(f)\n",
    "\n",
    "with open('../data/y_train_nb_lr_svc.pkl', 'rb') as f:\n",
    "    y_train_nb_lr_svc = pickle.load(f)\n"
   ]
  },
  {
   "cell_type": "markdown",
   "id": "ab703d26-fa1e-4448-9b22-067515669cfb",
   "metadata": {},
   "source": [
    "Definimos funciones que más adelante en el notebook nos serán útiles."
   ]
  },
  {
   "cell_type": "code",
   "execution_count": 3,
   "id": "cc21451b-0253-457d-aefe-db8759846738",
   "metadata": {},
   "outputs": [],
   "source": [
    "def apply_undersampling(X, y, ratio=9, random_state=42):\n",
    "    \"\"\"\n",
    "    Función para aplicar sub-muestreo a los datos.\n",
    "\n",
    "    Parámetros:\n",
    "    - X: Características (features)\n",
    "    - y: Etiquetas (labels)\n",
    "    - ratio: Ratio deseado entre las clases 0 y 1 (n_zeros/n_ones)\n",
    "    - random_state: Estado aleatorio para el sub-muestreo\n",
    "\n",
    "    Retorna:\n",
    "    - X_undersampled: X después del sub-muestreo\n",
    "    - y_undersampled: y después del sub-muestreo\n",
    "    \"\"\"\n",
    "    # Contar el número de ocurrencias de cada clase\n",
    "    counts = np.bincount(y)\n",
    "\n",
    "    # Calcular el número de muestras para cada clase para lograr la proporción deseada\n",
    "    n_ones = counts[1]\n",
    "    n_zeros = int(n_ones * ratio)\n",
    "    sampling_strategy = {0: n_zeros, 1: n_ones}\n",
    "\n",
    "    rus = RandomUnderSampler(sampling_strategy=sampling_strategy, random_state=random_state)\n",
    "    X_undersampled, y_undersampled = rus.fit_resample(X, y)\n",
    "\n",
    "    return X_undersampled, y_undersampled\n",
    "\n",
    "\n",
    "def train_val_split_undersample(X, y, test_size=0.2, undersample_ratio=90, random_state_split=12345, random_state_sampling=42):\n",
    "    \"\"\"\n",
    "    Divide los datos en conjuntos de entrenamiento y validación y luego aplica sub-muestreo al conjunto de entrenamiento.\n",
    "    \"\"\"\n",
    "    # Dividir los datos en conjuntos de entrenamiento y validación\n",
    "    X_train, X_val, y_train, y_val = train_test_split(X, y, stratify=y, test_size=test_size, random_state=random_state_split)\n",
    "\n",
    "    # Contar el número de ocurrencias de cada clase en el conjunto de entrenamiento\n",
    "    counts = np.bincount(y_train)\n",
    "\n",
    "    # Calcular el número de muestras para lograr la proporción deseada\n",
    "    n_ones = counts[1]\n",
    "    n_zeros = int(n_ones * (undersample_ratio / (100 - undersample_ratio)))\n",
    "    sampling_strategy = {0: n_zeros, 1: n_ones}\n",
    "\n",
    "    # Aplicar sub-muestreo al conjunto de entrenamiento\n",
    "    rus = RandomUnderSampler(sampling_strategy=sampling_strategy, random_state=random_state_sampling)\n",
    "    X_train_val, y_train_val = rus.fit_resample(X_train, y_train)\n",
    "\n",
    "    return X_train_val, y_train_val, X_val, y_val\n",
    "\n"
   ]
  },
  {
   "cell_type": "markdown",
   "id": "95b8840d-48c0-4b4f-99d3-66941b9bba28",
   "metadata": {},
   "source": [
    "Utilizamos la primera función llamada apply_undersampling. \n",
    "\n",
    "La función apply_undersampling está diseñada para equilibrar un conjunto de datos que tiene un desequilibrio en la distribución de sus clases. Se centra en el sub-muestreo de la clase mayoritaria para alcanzar una proporción específica en relación con la clase minoritaria.\n",
    "\n",
    "La función primero cuenta la cantidad de muestras en cada clase.\n",
    "\n",
    "Luego, calcula cuántas muestras de la clase mayoritaria (clase 0 en este caso) deben mantenerse para alcanzar el ratio deseado con respecto a la clase minoritaria (clase 1).\n",
    "\n",
    "Aplica sub-muestreo utilizando RandomUnderSampler de la biblioteca imblearn, reduciendo la clase mayoritaria hasta alcanzar la proporción especificada. \n",
    "\n",
    "Finalmente retorna el conjunto de datos (X_undersampled y y_undersampled) con la clase mayoritaria sub-muestreada, logrando así una distribución de clase más equilibrada.\n",
    "\n",
    "En nuestro caso aplicamos sobre nuestros dos conjuntos de datasets y elegimos que el 90% de las muestras en el conjunto de datos equilibrado serán de la clase 0, mientras que el 10% serán de la clase 1.\n",
    "\n",
    "Estos dataset resultantes serán los que se utilicen posteriormente en el modelo definitivo para entrenarlo y posteriormente predecir el test."
   ]
  },
  {
   "cell_type": "code",
   "execution_count": 4,
   "id": "a7ba95a2-f248-47e0-aa73-511a9dd9bdf6",
   "metadata": {},
   "outputs": [],
   "source": [
    "X_train_undersampled, y_train_undersampled = apply_undersampling(X_train, y_train)\n",
    "X_train_nb_lr_svc_undersampled, y_train_nb_lr_svc_undersampled = apply_undersampling(X_train_nb_lr_svc, y_train_nb_lr_svc)"
   ]
  },
  {
   "cell_type": "markdown",
   "id": "dcb3c433-8821-4e05-88ce-b9f1cc9602c4",
   "metadata": {},
   "source": [
    "Vemos como ha quedado distribuido y_train_undersampled en la variable objetivo."
   ]
  },
  {
   "cell_type": "code",
   "execution_count": 5,
   "id": "1389de4e-df40-4a4a-be7c-e6a3cc6b840d",
   "metadata": {
    "scrolled": true
   },
   "outputs": [
    {
     "data": {
      "text/plain": [
       "fraud_bool\n",
       "0    79407\n",
       "1     8823\n",
       "Name: count, dtype: int64"
      ]
     },
     "execution_count": 5,
     "metadata": {},
     "output_type": "execute_result"
    }
   ],
   "source": [
    "y_train_undersampled.value_counts()"
   ]
  },
  {
   "cell_type": "markdown",
   "id": "70c7eb6c-bc69-417d-8df2-5394e39525a5",
   "metadata": {},
   "source": [
    "Posteriormente cogemos el train inicial y lo dividimos en train y validación y posteriormente le hacemos undersampling solamente al train.\n",
    "\n",
    "Esto lo hacemos en los dos conjuntos de datos. \n",
    "\n",
    "Estos conjuntos de datos son los que se utilizarán para entrenar y evaluar los modelos que nos servirán para decidir el modelo más optimo.\n",
    "\n",
    "Esto lo hacemos a través de la funcion train_val_split_undersample.\n",
    "\n",
    "La función realiza lo siguiente:\n",
    "\n",
    "Divide un conjunto de datos en partes de entrenamiento y validación, y luego equilibra las clases en el conjunto de entrenamiento mediante sub-muestreo.\n",
    "\n",
    "La función asegura que el conjunto de entrenamiento tenga una proporción más equilibrada de clases, mientras que el conjunto de validación refleja la distribución original de clases del conjunto de datos completo. Este enfoque ayuda a mejorar la eficacia del entrenamiento del modelo de machine learning, permitiendo que aprenda de manera más efectiva de ambas clases.\r\n",
    "En esta ocasión también el 90% de las muestras en el conjunto de datos de entranamiento serán de la clase 0, mientras que el 10% serán de la clase 1.\n",
    "\r\n",
    "\r\n",
    "\r\n"
   ]
  },
  {
   "cell_type": "code",
   "execution_count": 6,
   "id": "59ea6ebb-0a6c-467c-8b63-1aba1d4856b3",
   "metadata": {},
   "outputs": [],
   "source": [
    "X_train_val, y_train_val, X_val, y_val = train_val_split_undersample(X_train, y_train)\n",
    "X_train_nb_lr_svc_val, y_train_nb_lr_svc_val, X_val_nb_lr_svc, y_val_nb_lr_svc= train_val_split_undersample(X_train_nb_lr_svc, y_train_nb_lr_svc)"
   ]
  },
  {
   "cell_type": "code",
   "execution_count": 7,
   "id": "d65adb0a-60ef-4310-9c1e-ccba1d40993f",
   "metadata": {},
   "outputs": [
    {
     "data": {
      "text/plain": [
       "fraud_bool\n",
       "0    63522\n",
       "1     7058\n",
       "Name: count, dtype: int64"
      ]
     },
     "execution_count": 7,
     "metadata": {},
     "output_type": "execute_result"
    }
   ],
   "source": [
    "y_train_val.value_counts()"
   ]
  },
  {
   "cell_type": "markdown",
   "id": "cb391635-beff-485d-a199-87e7a46128a4",
   "metadata": {},
   "source": [
    "Por último guardamos todos los dataframes en pickles"
   ]
  },
  {
   "cell_type": "code",
   "execution_count": 8,
   "id": "04f32a02-2640-4562-b6ff-9ce21a560c72",
   "metadata": {},
   "outputs": [],
   "source": [
    "import pickle\n",
    "\n",
    "with open('../data/X_train_undersampled.pickle', 'wb') as file:\n",
    "    pickle.dump(X_train_undersampled, file)\n",
    "\n",
    "with open('../data/y_train_undersampled.pickle', 'wb') as file:\n",
    "    pickle.dump(y_train_undersampled, file)\n",
    "\n",
    "with open('../data/X_train_nb_lr_svc_undersampled.pickle', 'wb') as file:\n",
    "    pickle.dump(X_train_nb_lr_svc_undersampled, file)\n",
    "\n",
    "with open('../data/y_train_nb_lr_svc_undersampled.pickle', 'wb') as file:\n",
    "    pickle.dump(y_train_nb_lr_svc_undersampled, file)\n",
    "\n",
    "with open('../data/X_train_val.pickle', 'wb') as file:\n",
    "    pickle.dump(X_train_val, file)\n",
    "\n",
    "with open('../data/y_train_val.pickle', 'wb') as file:\n",
    "    pickle.dump(y_train_val, file)\n",
    "\n",
    "with open('../data/X_val.pickle', 'wb') as file:\n",
    "    pickle.dump(X_val, file)\n",
    "\n",
    "with open('../data/y_val.pickle', 'wb') as file:\n",
    "    pickle.dump(y_val, file)\n",
    "\n",
    "with open('../data/X_train_nb_lr_svc_val.pickle', 'wb') as file:\n",
    "    pickle.dump(X_train_nb_lr_svc_val, file)\n",
    "\n",
    "with open('../data/y_train_nb_lr_svc_val.pickle', 'wb') as file:\n",
    "    pickle.dump(y_train_nb_lr_svc_val, file)\n",
    "\n",
    "with open('../data/X_val_nb_lr_svc.pickle', 'wb') as file:\n",
    "    pickle.dump(X_val_nb_lr_svc, file)\n",
    "\n",
    "with open('../data/y_val_nb_lr_svc.pickle', 'wb') as file:\n",
    "    pickle.dump(y_val_nb_lr_svc, file)\n"
   ]
  }
 ],
 "metadata": {
  "kernelspec": {
   "display_name": "Kernel 0",
   "language": "python",
   "name": "practica-0"
  },
  "language_info": {
   "codemirror_mode": {
    "name": "ipython",
    "version": 3
   },
   "file_extension": ".py",
   "mimetype": "text/x-python",
   "name": "python",
   "nbconvert_exporter": "python",
   "pygments_lexer": "ipython3",
   "version": "3.9.18"
  }
 },
 "nbformat": 4,
 "nbformat_minor": 5
}
