{
 "cells": [
  {
   "cell_type": "markdown",
   "id": "e8082520-b052-4f76-8689-4735a044441c",
   "metadata": {},
   "source": [
    "### Conclusiones"
   ]
  },
  {
   "cell_type": "markdown",
   "id": "ac881e49-f1b5-41ef-9539-23cf4ad3b0b5",
   "metadata": {},
   "source": [
    "En primer lugar podemos afirmar que hemos cumplido el objetivo principal prefijado al comenzar el trabajo que era conseguir predecir un número de fraudes aceptable en transacciones bancarias. \n",
    "\n",
    "Hemos conseguido con nuestro modelo LGBM predecir el 35 por ciento de los fraudes que había en el test.\n",
    "\n",
    "Aunque consideramos que nuestro modelo es bueno, sabemos que no es perfecto y creemos que tiene cosas a mejorar. \n",
    "\n",
    "A continuación expondremos factores que consideramos que pueden ser mejorados en un futuro en nuestro modelo.\n",
    "\n",
    "En primer lugar, es evidente la disminución de la precisión y del F1-score para esta la clase '1' es donde el modelo pierde generalización, lo cual tal y como hemos explicado en anteriores notebooks no tiene porque ser indicador de overfitting.\n",
    "\n",
    "Pensamos que el principal motivo de este fenómeno se debe en gran medida a que el modelo se evaluó inicialmente utilizando un conjunto de datos con el cual el modelo habia entrenador previamente y en el que que las clases estaban equilibradas. Esta evaluación inicial mostró un rendimiento positivo exagerado para la clase minoritaria debido a que las clases se igualaron artificialmente en número. Sin embargo, cuando el modelo se probó en un conjunto de datos de prueba desequilibrado, que reflejaba con mayor precisión la distribución real de las clases, se notó una disminución en la precisión para esa clase minoritaria.\n",
    "\n",
    "Por lo tanto, aunque consideramos que esto no indica overfitting de manera clara y concisa si que consideramos un aspecto a mejorar y conseguir un modelo que generalice mejor. Algunas ideas que se nos ocurre para evitar que esto pase es lo siguiente: \n",
    "\n",
    "1. Rebalanceo de clases: Hemos probado muchas combaciones, tanto con undersampling como con oversampling, 50/50 , 85/15, entre otras, sin embargo no conseguimos ninguna combinacion que realmente consiguiera que el modelo generalice mejor. Es un aspecto que seguramente tenga margen de mejora.\n",
    " \n",
    "2. Feature Engineering: Hemos revisado l las características utilizadas hemosra agredor y o elimidoar características para mejorar la generalizaci, sin embargo tras probar multiples combinaciones este es el mejor modelo obtenido.  Posiblemente haya alguna variable nueva agregar que aporte información valiosa y no hayamos sido capaces de identificarla.\n",
    "\n",
    "3. Encoding: En cuanto al encoding probamos distintos tipos. El que pensabamos que nos ayudaría más fue asignar pesos a las diferentes categorías en funcion del número de fraudes que tuviera esa categoría. Es decir, si por ejemplo si del total de fraudes en la categoría device_os la mayoria son con un dispositivo windows; pues asignar a windows un mayor peso que a Linux. Sin embargo este metodo nos dio el mismo resultado que el OneHot enconding. Probablemente haya otro método de hacerlo que resulte más eficaz que el elegido y por ello hemos sido privados de ver un desempeño superior en el modelo.\n",
    "\n",
    "Por ello consideramos que aunque nuestro modelo consigue el objetivo de detectar fraude , un área de mejora es optimizar la dificultad del modelo para manejar clases minoritarias en un entorno desbalanceado y de esta forma no solo generalizar mejor si no conseguuir también captar más fraude con una mayor precisión."
   ]
  },
  {
   "cell_type": "markdown",
   "id": "e6bde9ad-086b-4c11-be2e-9015942dbecd",
   "metadata": {},
   "source": [
    "Por último, tras realizar un análisis exhaustivo de los datos durante el proyecto vamos a destacar algunos puntos que la entidad financiera debe tener en cuenta para prevenir fraude a solicitantes futuros:\n",
    "\n",
    "\n",
    "1. Estabilidad Residencial: Las variables como num_current_address_months_count y num_prev_address_months_count, que reflejan la duración de la estancia en el domicilio actual y anterior, son significativas en la predicción del modelo. Esto sugiere que la estabilidad residencial es un factor relevante y debe ser considerado al evaluar el riesgo de fraude.\n",
    "\n",
    "2. Datos del Dispositivo: La variable cat_device_os_windows indica que el tipo de dispositivo y sistema operativo puede tener un impacto en la predicción de fraude. Esto puede ser útil para identificar patrones de fraude asociados con ciertos dispositivos o sistemas operativos y para implementar medidas de seguridad más fuertes para ellos.\n",
    "\n",
    "3. Información Personal: La similitud entre el nombre y el correo electrónico (num_name_email_similarity) y la validez del teléfono de casa (cat_phone_home_valid_0) han surgido como variables influyentes. Esto podría sugerir que la coherencia y la autenticidad de la información personal son indicadores significativos de actividades legítimas, mientras que las discrepancias o la falta de validación pueden ser señales de alerta de fraude.\n",
    "\n",
    "4. Comportamiento de Solicitud: Variables que capturan la frecuencia y el patrón de las solicitudes, como num_bank_branch_count_8w y la actividad de solicitud (num_velocity_4w, num_velocity_24h), son importantes. Patrones inusuales de solicitud pueden ser indicativos de comportamientos fraudulentos y deben ser monitoreados de cerca.\n",
    "\n",
    "5. Sesión de Usuario: La duración de la sesión del usuario (num_session_length_in_minutes) ha demostrado ser una variable importante. Sesiones anormalmente cortas o largas pueden requerir una verificación adicional, ya que podrían indicar un comportamiento de uso sospechoso.\n",
    "\n",
    "6. Puntuación de Crédito: Aunque la puntuación de crédito (credit_risk_score) no apareció como la más influyente en el gráfico de importancia de LightGBM, sigue siendo una variable de consideración y debe ser integrada en el análisis de riesgo.\n",
    "\n",
    "En conclusión, la prevención del fraude debe abordar una combinación de factores que incluyen la estabilidad personal, el comportamiento de solicitud, la coherencia de la información proporcionada, y el uso de dispositivos. Los modelos predictivos como el que hemos utilizado son herramientas valiosas para identificar patrones de riesgo y deben ser complementados con procedimientos de verificación y seguridad robustos."
   ]
  }
 ],
 "metadata": {
  "kernelspec": {
   "display_name": "Kernel 0",
   "language": "python",
   "name": "practica-0"
  },
  "language_info": {
   "codemirror_mode": {
    "name": "ipython",
    "version": 3
   },
   "file_extension": ".py",
   "mimetype": "text/x-python",
   "name": "python",
   "nbconvert_exporter": "python",
   "pygments_lexer": "ipython3",
   "version": "3.9.18"
  }
 },
 "nbformat": 4,
 "nbformat_minor": 5
}
